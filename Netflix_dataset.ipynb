{
  "nbformat": 4,
  "nbformat_minor": 0,
  "metadata": {
    "colab": {
      "name": "Netflix_dataset.ipynb",
      "provenance": [],
      "collapsed_sections": [],
      "authorship_tag": "ABX9TyNI+SmSNLDOoxJVXt167EBt",
      "include_colab_link": true
    },
    "kernelspec": {
      "name": "python3",
      "display_name": "Python 3"
    },
    "language_info": {
      "name": "python"
    }
  },
  "cells": [
    {
      "cell_type": "markdown",
      "metadata": {
        "id": "view-in-github",
        "colab_type": "text"
      },
      "source": [
        "<a href=\"https://colab.research.google.com/github/DashadaM/Netflix-dataset-analysis/blob/main/Netflix_dataset.ipynb\" target=\"_parent\"><img src=\"https://colab.research.google.com/assets/colab-badge.svg\" alt=\"Open In Colab\"/></a>"
      ]
    },
    {
      "cell_type": "markdown",
      "source": [
        "# **Netflix TV Shows and Movies**\n",
        "\n",
        "There is a dataset with information about all shows available on Netflix streaming and information about the cast. It's been uploaded on kaggle.com by Victor Soeiro.  \n",
        "https://drive.google.com/file/d/1eHodRouckOit0G6JezrYpuEpMU2hsUDL/view?usp=sharing  \n",
        "\n",
        "**Dataset Structure:**  \n",
        "\n",
        "***id:*** The title ID on JustWatch.  \n",
        "***title:*** The name of the title.  \n",
        "***show_type:*** TV show or movie.  \n",
        "***description:*** A brief description.  \n",
        "***release_year:*** The release year.  \n",
        "***age_certification:*** The age certification.  \n",
        "***runtime:*** The length of the episode (SHOW) or movie.  \n",
        "***genres:*** A list of genres.  \n",
        "***production_countries:*** A list of countries that produced the title.  \n",
        "***seasons:*** Number of seasons if it's a SHOW.  \n",
        "***imdb_id:*** The title ID on IMDB.  \n",
        "***imdb_score:*** Score on IMDB.  \n",
        "***imdb_votes:*** Votes on IMDB.  \n",
        "***tmdb_popularity:*** Popularity on TMDB.  \n",
        "***tmdb_score:*** Score on TMDB.  \n",
        "\n",
        "\n"
      ],
      "metadata": {
        "id": "Em72cA5vl8z8"
      }
    },
    {
      "cell_type": "markdown",
      "source": [
        "We will analyze dataset using Python and 2 libraries.  \n",
        "Upload the data."
      ],
      "metadata": {
        "id": "PMvAOUtpribz"
      }
    },
    {
      "cell_type": "code",
      "source": [
        "! gdown --id 1eHodRouckOit0G6JezrYpuEpMU2hsUDL"
      ],
      "metadata": {
        "colab": {
          "base_uri": "https://localhost:8080/"
        },
        "id": "sSvlf9-olpuK",
        "outputId": "a2deb111-68bd-471b-d380-0f5f55ec429d"
      },
      "execution_count": 50,
      "outputs": [
        {
          "output_type": "stream",
          "name": "stdout",
          "text": [
            "/usr/local/lib/python3.7/dist-packages/gdown/cli.py:131: FutureWarning: Option `--id` was deprecated in version 4.3.1 and will be removed in 5.0. You don't need to pass it anymore to use a file ID.\n",
            "  category=FutureWarning,\n",
            "Downloading...\n",
            "From: https://drive.google.com/uc?id=1eHodRouckOit0G6JezrYpuEpMU2hsUDL\n",
            "To: /content/titles.csv\n",
            "100% 2.03M/2.03M [00:00<00:00, 175MB/s]\n"
          ]
        }
      ]
    },
    {
      "cell_type": "code",
      "source": [
        "import pandas as pd\n",
        "import numpy as np"
      ],
      "metadata": {
        "id": "Dz9Zx5Nqr6Pr"
      },
      "execution_count": 51,
      "outputs": []
    },
    {
      "cell_type": "code",
      "source": [
        "df = pd.read_csv('/content/titles.csv')"
      ],
      "metadata": {
        "id": "kh_le6c8r7sn"
      },
      "execution_count": 52,
      "outputs": []
    },
    {
      "cell_type": "markdown",
      "source": [
        "Let's take a quick look at data."
      ],
      "metadata": {
        "id": "SgaQ1DbQsMnX"
      }
    },
    {
      "cell_type": "code",
      "source": [
        "df.head()"
      ],
      "metadata": {
        "colab": {
          "base_uri": "https://localhost:8080/",
          "height": 540
        },
        "id": "q3UJFQixsO-j",
        "outputId": "19dd2ee3-6840-48d9-a2ba-9e6bf1e50699"
      },
      "execution_count": 53,
      "outputs": [
        {
          "output_type": "execute_result",
          "data": {
            "text/plain": [
              "         id                                title   type  \\\n",
              "0  ts300399  Five Came Back: The Reference Films   SHOW   \n",
              "1   tm84618                          Taxi Driver  MOVIE   \n",
              "2  tm154986                          Deliverance  MOVIE   \n",
              "3  tm127384      Monty Python and the Holy Grail  MOVIE   \n",
              "4  tm120801                      The Dirty Dozen  MOVIE   \n",
              "\n",
              "                                         description  release_year  \\\n",
              "0  This collection includes 12 World War II-era p...          1945   \n",
              "1  A mentally unstable Vietnam War veteran works ...          1976   \n",
              "2  Intent on seeing the Cahulawassee River before...          1972   \n",
              "3  King Arthur, accompanied by his squire, recrui...          1975   \n",
              "4  12 American military prisoners in World War II...          1967   \n",
              "\n",
              "  age_certification  runtime                                       genres  \\\n",
              "0             TV-MA       51                            ['documentation']   \n",
              "1                 R      114                           ['drama', 'crime']   \n",
              "2                 R      109  ['drama', 'action', 'thriller', 'european']   \n",
              "3                PG       91              ['fantasy', 'action', 'comedy']   \n",
              "4               NaN      150                            ['war', 'action']   \n",
              "\n",
              "  production_countries  seasons    imdb_id  imdb_score  imdb_votes  \\\n",
              "0               ['US']      1.0        NaN         NaN         NaN   \n",
              "1               ['US']      NaN  tt0075314         8.2    808582.0   \n",
              "2               ['US']      NaN  tt0068473         7.7    107673.0   \n",
              "3               ['GB']      NaN  tt0071853         8.2    534486.0   \n",
              "4         ['GB', 'US']      NaN  tt0061578         7.7     72662.0   \n",
              "\n",
              "   tmdb_popularity  tmdb_score  \n",
              "0            0.600         NaN  \n",
              "1           40.965       8.179  \n",
              "2           10.010       7.300  \n",
              "3           15.461       7.811  \n",
              "4           20.398       7.600  "
            ],
            "text/html": [
              "\n",
              "  <div id=\"df-6d6e0435-5e98-46ac-a82d-0d6e27c6f2fb\">\n",
              "    <div class=\"colab-df-container\">\n",
              "      <div>\n",
              "<style scoped>\n",
              "    .dataframe tbody tr th:only-of-type {\n",
              "        vertical-align: middle;\n",
              "    }\n",
              "\n",
              "    .dataframe tbody tr th {\n",
              "        vertical-align: top;\n",
              "    }\n",
              "\n",
              "    .dataframe thead th {\n",
              "        text-align: right;\n",
              "    }\n",
              "</style>\n",
              "<table border=\"1\" class=\"dataframe\">\n",
              "  <thead>\n",
              "    <tr style=\"text-align: right;\">\n",
              "      <th></th>\n",
              "      <th>id</th>\n",
              "      <th>title</th>\n",
              "      <th>type</th>\n",
              "      <th>description</th>\n",
              "      <th>release_year</th>\n",
              "      <th>age_certification</th>\n",
              "      <th>runtime</th>\n",
              "      <th>genres</th>\n",
              "      <th>production_countries</th>\n",
              "      <th>seasons</th>\n",
              "      <th>imdb_id</th>\n",
              "      <th>imdb_score</th>\n",
              "      <th>imdb_votes</th>\n",
              "      <th>tmdb_popularity</th>\n",
              "      <th>tmdb_score</th>\n",
              "    </tr>\n",
              "  </thead>\n",
              "  <tbody>\n",
              "    <tr>\n",
              "      <th>0</th>\n",
              "      <td>ts300399</td>\n",
              "      <td>Five Came Back: The Reference Films</td>\n",
              "      <td>SHOW</td>\n",
              "      <td>This collection includes 12 World War II-era p...</td>\n",
              "      <td>1945</td>\n",
              "      <td>TV-MA</td>\n",
              "      <td>51</td>\n",
              "      <td>['documentation']</td>\n",
              "      <td>['US']</td>\n",
              "      <td>1.0</td>\n",
              "      <td>NaN</td>\n",
              "      <td>NaN</td>\n",
              "      <td>NaN</td>\n",
              "      <td>0.600</td>\n",
              "      <td>NaN</td>\n",
              "    </tr>\n",
              "    <tr>\n",
              "      <th>1</th>\n",
              "      <td>tm84618</td>\n",
              "      <td>Taxi Driver</td>\n",
              "      <td>MOVIE</td>\n",
              "      <td>A mentally unstable Vietnam War veteran works ...</td>\n",
              "      <td>1976</td>\n",
              "      <td>R</td>\n",
              "      <td>114</td>\n",
              "      <td>['drama', 'crime']</td>\n",
              "      <td>['US']</td>\n",
              "      <td>NaN</td>\n",
              "      <td>tt0075314</td>\n",
              "      <td>8.2</td>\n",
              "      <td>808582.0</td>\n",
              "      <td>40.965</td>\n",
              "      <td>8.179</td>\n",
              "    </tr>\n",
              "    <tr>\n",
              "      <th>2</th>\n",
              "      <td>tm154986</td>\n",
              "      <td>Deliverance</td>\n",
              "      <td>MOVIE</td>\n",
              "      <td>Intent on seeing the Cahulawassee River before...</td>\n",
              "      <td>1972</td>\n",
              "      <td>R</td>\n",
              "      <td>109</td>\n",
              "      <td>['drama', 'action', 'thriller', 'european']</td>\n",
              "      <td>['US']</td>\n",
              "      <td>NaN</td>\n",
              "      <td>tt0068473</td>\n",
              "      <td>7.7</td>\n",
              "      <td>107673.0</td>\n",
              "      <td>10.010</td>\n",
              "      <td>7.300</td>\n",
              "    </tr>\n",
              "    <tr>\n",
              "      <th>3</th>\n",
              "      <td>tm127384</td>\n",
              "      <td>Monty Python and the Holy Grail</td>\n",
              "      <td>MOVIE</td>\n",
              "      <td>King Arthur, accompanied by his squire, recrui...</td>\n",
              "      <td>1975</td>\n",
              "      <td>PG</td>\n",
              "      <td>91</td>\n",
              "      <td>['fantasy', 'action', 'comedy']</td>\n",
              "      <td>['GB']</td>\n",
              "      <td>NaN</td>\n",
              "      <td>tt0071853</td>\n",
              "      <td>8.2</td>\n",
              "      <td>534486.0</td>\n",
              "      <td>15.461</td>\n",
              "      <td>7.811</td>\n",
              "    </tr>\n",
              "    <tr>\n",
              "      <th>4</th>\n",
              "      <td>tm120801</td>\n",
              "      <td>The Dirty Dozen</td>\n",
              "      <td>MOVIE</td>\n",
              "      <td>12 American military prisoners in World War II...</td>\n",
              "      <td>1967</td>\n",
              "      <td>NaN</td>\n",
              "      <td>150</td>\n",
              "      <td>['war', 'action']</td>\n",
              "      <td>['GB', 'US']</td>\n",
              "      <td>NaN</td>\n",
              "      <td>tt0061578</td>\n",
              "      <td>7.7</td>\n",
              "      <td>72662.0</td>\n",
              "      <td>20.398</td>\n",
              "      <td>7.600</td>\n",
              "    </tr>\n",
              "  </tbody>\n",
              "</table>\n",
              "</div>\n",
              "      <button class=\"colab-df-convert\" onclick=\"convertToInteractive('df-6d6e0435-5e98-46ac-a82d-0d6e27c6f2fb')\"\n",
              "              title=\"Convert this dataframe to an interactive table.\"\n",
              "              style=\"display:none;\">\n",
              "        \n",
              "  <svg xmlns=\"http://www.w3.org/2000/svg\" height=\"24px\"viewBox=\"0 0 24 24\"\n",
              "       width=\"24px\">\n",
              "    <path d=\"M0 0h24v24H0V0z\" fill=\"none\"/>\n",
              "    <path d=\"M18.56 5.44l.94 2.06.94-2.06 2.06-.94-2.06-.94-.94-2.06-.94 2.06-2.06.94zm-11 1L8.5 8.5l.94-2.06 2.06-.94-2.06-.94L8.5 2.5l-.94 2.06-2.06.94zm10 10l.94 2.06.94-2.06 2.06-.94-2.06-.94-.94-2.06-.94 2.06-2.06.94z\"/><path d=\"M17.41 7.96l-1.37-1.37c-.4-.4-.92-.59-1.43-.59-.52 0-1.04.2-1.43.59L10.3 9.45l-7.72 7.72c-.78.78-.78 2.05 0 2.83L4 21.41c.39.39.9.59 1.41.59.51 0 1.02-.2 1.41-.59l7.78-7.78 2.81-2.81c.8-.78.8-2.07 0-2.86zM5.41 20L4 18.59l7.72-7.72 1.47 1.35L5.41 20z\"/>\n",
              "  </svg>\n",
              "      </button>\n",
              "      \n",
              "  <style>\n",
              "    .colab-df-container {\n",
              "      display:flex;\n",
              "      flex-wrap:wrap;\n",
              "      gap: 12px;\n",
              "    }\n",
              "\n",
              "    .colab-df-convert {\n",
              "      background-color: #E8F0FE;\n",
              "      border: none;\n",
              "      border-radius: 50%;\n",
              "      cursor: pointer;\n",
              "      display: none;\n",
              "      fill: #1967D2;\n",
              "      height: 32px;\n",
              "      padding: 0 0 0 0;\n",
              "      width: 32px;\n",
              "    }\n",
              "\n",
              "    .colab-df-convert:hover {\n",
              "      background-color: #E2EBFA;\n",
              "      box-shadow: 0px 1px 2px rgba(60, 64, 67, 0.3), 0px 1px 3px 1px rgba(60, 64, 67, 0.15);\n",
              "      fill: #174EA6;\n",
              "    }\n",
              "\n",
              "    [theme=dark] .colab-df-convert {\n",
              "      background-color: #3B4455;\n",
              "      fill: #D2E3FC;\n",
              "    }\n",
              "\n",
              "    [theme=dark] .colab-df-convert:hover {\n",
              "      background-color: #434B5C;\n",
              "      box-shadow: 0px 1px 3px 1px rgba(0, 0, 0, 0.15);\n",
              "      filter: drop-shadow(0px 1px 2px rgba(0, 0, 0, 0.3));\n",
              "      fill: #FFFFFF;\n",
              "    }\n",
              "  </style>\n",
              "\n",
              "      <script>\n",
              "        const buttonEl =\n",
              "          document.querySelector('#df-6d6e0435-5e98-46ac-a82d-0d6e27c6f2fb button.colab-df-convert');\n",
              "        buttonEl.style.display =\n",
              "          google.colab.kernel.accessAllowed ? 'block' : 'none';\n",
              "\n",
              "        async function convertToInteractive(key) {\n",
              "          const element = document.querySelector('#df-6d6e0435-5e98-46ac-a82d-0d6e27c6f2fb');\n",
              "          const dataTable =\n",
              "            await google.colab.kernel.invokeFunction('convertToInteractive',\n",
              "                                                     [key], {});\n",
              "          if (!dataTable) return;\n",
              "\n",
              "          const docLinkHtml = 'Like what you see? Visit the ' +\n",
              "            '<a target=\"_blank\" href=https://colab.research.google.com/notebooks/data_table.ipynb>data table notebook</a>'\n",
              "            + ' to learn more about interactive tables.';\n",
              "          element.innerHTML = '';\n",
              "          dataTable['output_type'] = 'display_data';\n",
              "          await google.colab.output.renderOutput(dataTable, element);\n",
              "          const docLink = document.createElement('div');\n",
              "          docLink.innerHTML = docLinkHtml;\n",
              "          element.appendChild(docLink);\n",
              "        }\n",
              "      </script>\n",
              "    </div>\n",
              "  </div>\n",
              "  "
            ]
          },
          "metadata": {},
          "execution_count": 53
        }
      ]
    },
    {
      "cell_type": "markdown",
      "source": [
        "The dataset contains data that is not necesary for analysis. So we will delete some columns."
      ],
      "metadata": {
        "id": "jZ0X8rTosbUJ"
      }
    },
    {
      "cell_type": "code",
      "source": [
        "df.drop(['id', 'imdb_id', 'imdb_votes', 'description', 'production_countries', 'tmdb_popularity'],axis=1,inplace=True)"
      ],
      "metadata": {
        "id": "QDQcvJ8CshtU"
      },
      "execution_count": 54,
      "outputs": []
    },
    {
      "cell_type": "markdown",
      "source": [
        "Next we will check if there any dublicates or null values in data."
      ],
      "metadata": {
        "id": "bzNyFkQyoIUc"
      }
    },
    {
      "cell_type": "code",
      "source": [
        "df.duplicated().mean()"
      ],
      "metadata": {
        "colab": {
          "base_uri": "https://localhost:8080/"
        },
        "id": "mOVZcojboNrL",
        "outputId": "4d760aab-5a03-40d8-f237-ba1f2bcbdb78"
      },
      "execution_count": 55,
      "outputs": [
        {
          "output_type": "execute_result",
          "data": {
            "text/plain": [
              "0.0"
            ]
          },
          "metadata": {},
          "execution_count": 55
        }
      ]
    },
    {
      "cell_type": "code",
      "source": [
        "df.isna().mean()"
      ],
      "metadata": {
        "colab": {
          "base_uri": "https://localhost:8080/"
        },
        "id": "qTUxPuPp2OcS",
        "outputId": "56412664-4263-4325-dc2c-906d07bfa2ff"
      },
      "execution_count": 56,
      "outputs": [
        {
          "output_type": "execute_result",
          "data": {
            "text/plain": [
              "title                0.000171\n",
              "type                 0.000000\n",
              "release_year         0.000000\n",
              "age_certification    0.447692\n",
              "runtime              0.000000\n",
              "genres               0.000000\n",
              "seasons              0.640000\n",
              "imdb_score           0.082393\n",
              "tmdb_score           0.053162\n",
              "dtype: float64"
            ]
          },
          "metadata": {},
          "execution_count": 56
        }
      ]
    },
    {
      "cell_type": "markdown",
      "source": [
        "We will fill in blanks where type is srtring with 'no_info' value.\n",
        "\n"
      ],
      "metadata": {
        "id": "LrpoLwGdOa_E"
      }
    },
    {
      "cell_type": "code",
      "source": [
        "df['title'].fillna('no_info',inplace=True)\n",
        "df['age_certification'].fillna('no_info',inplace=True)"
      ],
      "metadata": {
        "id": "sPw6bGQR8UFG"
      },
      "execution_count": 57,
      "outputs": []
    },
    {
      "cell_type": "markdown",
      "source": [
        "Now we are ready to process data.  \n"
      ],
      "metadata": {
        "id": "RbU-ElisuOze"
      }
    },
    {
      "cell_type": "code",
      "source": [
        "df['type'].value_counts()"
      ],
      "metadata": {
        "colab": {
          "base_uri": "https://localhost:8080/"
        },
        "id": "PqvoTSXXOKe2",
        "outputId": "d521aa5e-0e43-439f-b47a-8594446ca705"
      },
      "execution_count": 47,
      "outputs": [
        {
          "output_type": "execute_result",
          "data": {
            "text/plain": [
              "MOVIE    3744\n",
              "SHOW     2106\n",
              "Name: type, dtype: int64"
            ]
          },
          "metadata": {},
          "execution_count": 47
        }
      ]
    },
    {
      "cell_type": "markdown",
      "source": [
        "Here we see that there are one and a half times more movies than shows on Netflix."
      ],
      "metadata": {
        "id": "uMcuf-5GPzrd"
      }
    },
    {
      "cell_type": "markdown",
      "source": [
        "Next we look at the table with the average rating of movies and shows."
      ],
      "metadata": {
        "id": "2weB3F0Wydlw"
      }
    },
    {
      "cell_type": "code",
      "source": [
        "df.groupby('type')[['imdb_score', 'tmdb_score']].agg('mean')"
      ],
      "metadata": {
        "colab": {
          "base_uri": "https://localhost:8080/",
          "height": 142
        },
        "id": "NLcjYWJpR5fo",
        "outputId": "66910d51-9216-4855-b893-4795c1d93f8e"
      },
      "execution_count": 48,
      "outputs": [
        {
          "output_type": "execute_result",
          "data": {
            "text/plain": [
              "       imdb_score  tmdb_score\n",
              "type                         \n",
              "MOVIE    6.246748    6.464012\n",
              "SHOW     6.977927    7.480413"
            ],
            "text/html": [
              "\n",
              "  <div id=\"df-051f26d6-57dd-441e-b8a5-e0590981d9d2\">\n",
              "    <div class=\"colab-df-container\">\n",
              "      <div>\n",
              "<style scoped>\n",
              "    .dataframe tbody tr th:only-of-type {\n",
              "        vertical-align: middle;\n",
              "    }\n",
              "\n",
              "    .dataframe tbody tr th {\n",
              "        vertical-align: top;\n",
              "    }\n",
              "\n",
              "    .dataframe thead th {\n",
              "        text-align: right;\n",
              "    }\n",
              "</style>\n",
              "<table border=\"1\" class=\"dataframe\">\n",
              "  <thead>\n",
              "    <tr style=\"text-align: right;\">\n",
              "      <th></th>\n",
              "      <th>imdb_score</th>\n",
              "      <th>tmdb_score</th>\n",
              "    </tr>\n",
              "    <tr>\n",
              "      <th>type</th>\n",
              "      <th></th>\n",
              "      <th></th>\n",
              "    </tr>\n",
              "  </thead>\n",
              "  <tbody>\n",
              "    <tr>\n",
              "      <th>MOVIE</th>\n",
              "      <td>6.246748</td>\n",
              "      <td>6.464012</td>\n",
              "    </tr>\n",
              "    <tr>\n",
              "      <th>SHOW</th>\n",
              "      <td>6.977927</td>\n",
              "      <td>7.480413</td>\n",
              "    </tr>\n",
              "  </tbody>\n",
              "</table>\n",
              "</div>\n",
              "      <button class=\"colab-df-convert\" onclick=\"convertToInteractive('df-051f26d6-57dd-441e-b8a5-e0590981d9d2')\"\n",
              "              title=\"Convert this dataframe to an interactive table.\"\n",
              "              style=\"display:none;\">\n",
              "        \n",
              "  <svg xmlns=\"http://www.w3.org/2000/svg\" height=\"24px\"viewBox=\"0 0 24 24\"\n",
              "       width=\"24px\">\n",
              "    <path d=\"M0 0h24v24H0V0z\" fill=\"none\"/>\n",
              "    <path d=\"M18.56 5.44l.94 2.06.94-2.06 2.06-.94-2.06-.94-.94-2.06-.94 2.06-2.06.94zm-11 1L8.5 8.5l.94-2.06 2.06-.94-2.06-.94L8.5 2.5l-.94 2.06-2.06.94zm10 10l.94 2.06.94-2.06 2.06-.94-2.06-.94-.94-2.06-.94 2.06-2.06.94z\"/><path d=\"M17.41 7.96l-1.37-1.37c-.4-.4-.92-.59-1.43-.59-.52 0-1.04.2-1.43.59L10.3 9.45l-7.72 7.72c-.78.78-.78 2.05 0 2.83L4 21.41c.39.39.9.59 1.41.59.51 0 1.02-.2 1.41-.59l7.78-7.78 2.81-2.81c.8-.78.8-2.07 0-2.86zM5.41 20L4 18.59l7.72-7.72 1.47 1.35L5.41 20z\"/>\n",
              "  </svg>\n",
              "      </button>\n",
              "      \n",
              "  <style>\n",
              "    .colab-df-container {\n",
              "      display:flex;\n",
              "      flex-wrap:wrap;\n",
              "      gap: 12px;\n",
              "    }\n",
              "\n",
              "    .colab-df-convert {\n",
              "      background-color: #E8F0FE;\n",
              "      border: none;\n",
              "      border-radius: 50%;\n",
              "      cursor: pointer;\n",
              "      display: none;\n",
              "      fill: #1967D2;\n",
              "      height: 32px;\n",
              "      padding: 0 0 0 0;\n",
              "      width: 32px;\n",
              "    }\n",
              "\n",
              "    .colab-df-convert:hover {\n",
              "      background-color: #E2EBFA;\n",
              "      box-shadow: 0px 1px 2px rgba(60, 64, 67, 0.3), 0px 1px 3px 1px rgba(60, 64, 67, 0.15);\n",
              "      fill: #174EA6;\n",
              "    }\n",
              "\n",
              "    [theme=dark] .colab-df-convert {\n",
              "      background-color: #3B4455;\n",
              "      fill: #D2E3FC;\n",
              "    }\n",
              "\n",
              "    [theme=dark] .colab-df-convert:hover {\n",
              "      background-color: #434B5C;\n",
              "      box-shadow: 0px 1px 3px 1px rgba(0, 0, 0, 0.15);\n",
              "      filter: drop-shadow(0px 1px 2px rgba(0, 0, 0, 0.3));\n",
              "      fill: #FFFFFF;\n",
              "    }\n",
              "  </style>\n",
              "\n",
              "      <script>\n",
              "        const buttonEl =\n",
              "          document.querySelector('#df-051f26d6-57dd-441e-b8a5-e0590981d9d2 button.colab-df-convert');\n",
              "        buttonEl.style.display =\n",
              "          google.colab.kernel.accessAllowed ? 'block' : 'none';\n",
              "\n",
              "        async function convertToInteractive(key) {\n",
              "          const element = document.querySelector('#df-051f26d6-57dd-441e-b8a5-e0590981d9d2');\n",
              "          const dataTable =\n",
              "            await google.colab.kernel.invokeFunction('convertToInteractive',\n",
              "                                                     [key], {});\n",
              "          if (!dataTable) return;\n",
              "\n",
              "          const docLinkHtml = 'Like what you see? Visit the ' +\n",
              "            '<a target=\"_blank\" href=https://colab.research.google.com/notebooks/data_table.ipynb>data table notebook</a>'\n",
              "            + ' to learn more about interactive tables.';\n",
              "          element.innerHTML = '';\n",
              "          dataTable['output_type'] = 'display_data';\n",
              "          await google.colab.output.renderOutput(dataTable, element);\n",
              "          const docLink = document.createElement('div');\n",
              "          docLink.innerHTML = docLinkHtml;\n",
              "          element.appendChild(docLink);\n",
              "        }\n",
              "      </script>\n",
              "    </div>\n",
              "  </div>\n",
              "  "
            ]
          },
          "metadata": {},
          "execution_count": 48
        }
      ]
    },
    {
      "cell_type": "markdown",
      "source": [
        "There are 2 scores in the dataset: IMDb and TMDB.  \n",
        "IMDb is the world's most popular and authoritative source for movie, TV and celebrity content.  \n",
        "The Movie Database (TMDb) is a popular, user editable database for movies and TV shows.  \n",
        "Registered users can cast a vote (from 1 to 10) on every released title in the database.  \n",
        "We can see that in both cases the shows on average score higher than the movies in our comparison.\n"
      ],
      "metadata": {
        "id": "KP5BZFhCeueL"
      }
    },
    {
      "cell_type": "markdown",
      "source": [
        "Now let's take a look at the TOP 10 pieces of cinematography in both scores."
      ],
      "metadata": {
        "id": "16S7QyNb7PVF"
      }
    },
    {
      "cell_type": "code",
      "source": [
        "(df.sort_values(['imdb_score'], ascending=False)[['title','imdb_score','type']].head(10)\n",
        ".style.set_table_styles([dict(selector='th', props = [('text-align', 'left')])])\n",
        ".set_properties(**{'text-align': 'left'}))"
      ],
      "metadata": {
        "colab": {
          "base_uri": "https://localhost:8080/",
          "height": 359
        },
        "id": "AL43nxJretTP",
        "outputId": "bddbeb9d-d0a7-43fb-a8d4-e7673b2af02c"
      },
      "execution_count": 11,
      "outputs": [
        {
          "output_type": "execute_result",
          "data": {
            "text/plain": [
              "<pandas.io.formats.style.Styler at 0x7f5ce8841d90>"
            ],
            "text/html": [
              "<style type=\"text/css\">\n",
              "#T_64fbf_ th {\n",
              "  text-align: left;\n",
              "}\n",
              "#T_64fbf_row0_col0, #T_64fbf_row0_col1, #T_64fbf_row0_col2, #T_64fbf_row1_col0, #T_64fbf_row1_col1, #T_64fbf_row1_col2, #T_64fbf_row2_col0, #T_64fbf_row2_col1, #T_64fbf_row2_col2, #T_64fbf_row3_col0, #T_64fbf_row3_col1, #T_64fbf_row3_col2, #T_64fbf_row4_col0, #T_64fbf_row4_col1, #T_64fbf_row4_col2, #T_64fbf_row5_col0, #T_64fbf_row5_col1, #T_64fbf_row5_col2, #T_64fbf_row6_col0, #T_64fbf_row6_col1, #T_64fbf_row6_col2, #T_64fbf_row7_col0, #T_64fbf_row7_col1, #T_64fbf_row7_col2, #T_64fbf_row8_col0, #T_64fbf_row8_col1, #T_64fbf_row8_col2, #T_64fbf_row9_col0, #T_64fbf_row9_col1, #T_64fbf_row9_col2 {\n",
              "  text-align: left;\n",
              "}\n",
              "</style>\n",
              "<table id=\"T_64fbf_\" class=\"dataframe\">\n",
              "  <thead>\n",
              "    <tr>\n",
              "      <th class=\"blank level0\" >&nbsp;</th>\n",
              "      <th class=\"col_heading level0 col0\" >title</th>\n",
              "      <th class=\"col_heading level0 col1\" >imdb_score</th>\n",
              "      <th class=\"col_heading level0 col2\" >type</th>\n",
              "    </tr>\n",
              "  </thead>\n",
              "  <tbody>\n",
              "    <tr>\n",
              "      <th id=\"T_64fbf_level0_row0\" class=\"row_heading level0 row0\" >2658</th>\n",
              "      <td id=\"T_64fbf_row0_col0\" class=\"data row0 col0\" >#ABtalks</td>\n",
              "      <td id=\"T_64fbf_row0_col1\" class=\"data row0 col1\" >9.600000</td>\n",
              "      <td id=\"T_64fbf_row0_col2\" class=\"data row0 col2\" >SHOW</td>\n",
              "    </tr>\n",
              "    <tr>\n",
              "      <th id=\"T_64fbf_level0_row1\" class=\"row_heading level0 row1\" >216</th>\n",
              "      <td id=\"T_64fbf_row1_col0\" class=\"data row1 col0\" >Breaking Bad</td>\n",
              "      <td id=\"T_64fbf_row1_col1\" class=\"data row1 col1\" >9.500000</td>\n",
              "      <td id=\"T_64fbf_row1_col2\" class=\"data row1 col2\" >SHOW</td>\n",
              "    </tr>\n",
              "    <tr>\n",
              "      <th id=\"T_64fbf_level0_row2\" class=\"row_heading level0 row2\" >564</th>\n",
              "      <td id=\"T_64fbf_row2_col0\" class=\"data row2 col0\" >Khawatir</td>\n",
              "      <td id=\"T_64fbf_row2_col1\" class=\"data row2 col1\" >9.500000</td>\n",
              "      <td id=\"T_64fbf_row2_col2\" class=\"data row2 col2\" >SHOW</td>\n",
              "    </tr>\n",
              "    <tr>\n",
              "      <th id=\"T_64fbf_level0_row3\" class=\"row_heading level0 row3\" >3147</th>\n",
              "      <td id=\"T_64fbf_row3_col0\" class=\"data row3 col0\" >Our Planet</td>\n",
              "      <td id=\"T_64fbf_row3_col1\" class=\"data row3 col1\" >9.300000</td>\n",
              "      <td id=\"T_64fbf_row3_col2\" class=\"data row3 col2\" >SHOW</td>\n",
              "    </tr>\n",
              "    <tr>\n",
              "      <th id=\"T_64fbf_level0_row4\" class=\"row_heading level0 row4\" >233</th>\n",
              "      <td id=\"T_64fbf_row4_col0\" class=\"data row4 col0\" >Avatar: The Last Airbender</td>\n",
              "      <td id=\"T_64fbf_row4_col1\" class=\"data row4 col1\" >9.300000</td>\n",
              "      <td id=\"T_64fbf_row4_col2\" class=\"data row4 col2\" >SHOW</td>\n",
              "    </tr>\n",
              "    <tr>\n",
              "      <th id=\"T_64fbf_level0_row5\" class=\"row_heading level0 row5\" >1258</th>\n",
              "      <td id=\"T_64fbf_row5_col0\" class=\"data row5 col0\" >Reply 1988</td>\n",
              "      <td id=\"T_64fbf_row5_col1\" class=\"data row5 col1\" >9.200000</td>\n",
              "      <td id=\"T_64fbf_row5_col2\" class=\"data row5 col2\" >SHOW</td>\n",
              "    </tr>\n",
              "    <tr>\n",
              "      <th id=\"T_64fbf_level0_row6\" class=\"row_heading level0 row6\" >3068</th>\n",
              "      <td id=\"T_64fbf_row6_col0\" class=\"data row6 col0\" >The Last Dance</td>\n",
              "      <td id=\"T_64fbf_row6_col1\" class=\"data row6 col1\" >9.100000</td>\n",
              "      <td id=\"T_64fbf_row6_col2\" class=\"data row6 col2\" >SHOW</td>\n",
              "    </tr>\n",
              "    <tr>\n",
              "      <th id=\"T_64fbf_level0_row7\" class=\"row_heading level0 row7\" >1092</th>\n",
              "      <td id=\"T_64fbf_row7_col0\" class=\"data row7 col0\" >Chhota Bheem & Krishna vs Zimbara</td>\n",
              "      <td id=\"T_64fbf_row7_col1\" class=\"data row7 col1\" >9.100000</td>\n",
              "      <td id=\"T_64fbf_row7_col2\" class=\"data row7 col2\" >MOVIE</td>\n",
              "    </tr>\n",
              "    <tr>\n",
              "      <th id=\"T_64fbf_level0_row8\" class=\"row_heading level0 row8\" >4771</th>\n",
              "      <td id=\"T_64fbf_row8_col0\" class=\"data row8 col0\" >Major</td>\n",
              "      <td id=\"T_64fbf_row8_col1\" class=\"data row8 col1\" >9.100000</td>\n",
              "      <td id=\"T_64fbf_row8_col2\" class=\"data row8 col2\" >MOVIE</td>\n",
              "    </tr>\n",
              "    <tr>\n",
              "      <th id=\"T_64fbf_level0_row9\" class=\"row_heading level0 row9\" >3500</th>\n",
              "      <td id=\"T_64fbf_row9_col0\" class=\"data row9 col0\" >Kota Factory</td>\n",
              "      <td id=\"T_64fbf_row9_col1\" class=\"data row9 col1\" >9.100000</td>\n",
              "      <td id=\"T_64fbf_row9_col2\" class=\"data row9 col2\" >SHOW</td>\n",
              "    </tr>\n",
              "  </tbody>\n",
              "</table>\n"
            ]
          },
          "metadata": {},
          "execution_count": 11
        }
      ]
    },
    {
      "cell_type": "code",
      "source": [
        "(df.sort_values(['tmdb_score'], ascending=False)[['title','tmdb_score','type']].head(10)\n",
        ".style.set_table_styles([dict(selector='th', props = [('text-align', 'left')])])\n",
        ".set_properties(**{'text-align': 'left'}))"
      ],
      "metadata": {
        "colab": {
          "base_uri": "https://localhost:8080/",
          "height": 359
        },
        "id": "4rQHp-EZhYNp",
        "outputId": "e25ca3bb-0b56-4c07-ac61-e596eb1e732c"
      },
      "execution_count": 12,
      "outputs": [
        {
          "output_type": "execute_result",
          "data": {
            "text/plain": [
              "<pandas.io.formats.style.Styler at 0x7f5ceb701a10>"
            ],
            "text/html": [
              "<style type=\"text/css\">\n",
              "#T_8f78f_ th {\n",
              "  text-align: left;\n",
              "}\n",
              "#T_8f78f_row0_col0, #T_8f78f_row0_col1, #T_8f78f_row0_col2, #T_8f78f_row1_col0, #T_8f78f_row1_col1, #T_8f78f_row1_col2, #T_8f78f_row2_col0, #T_8f78f_row2_col1, #T_8f78f_row2_col2, #T_8f78f_row3_col0, #T_8f78f_row3_col1, #T_8f78f_row3_col2, #T_8f78f_row4_col0, #T_8f78f_row4_col1, #T_8f78f_row4_col2, #T_8f78f_row5_col0, #T_8f78f_row5_col1, #T_8f78f_row5_col2, #T_8f78f_row6_col0, #T_8f78f_row6_col1, #T_8f78f_row6_col2, #T_8f78f_row7_col0, #T_8f78f_row7_col1, #T_8f78f_row7_col2, #T_8f78f_row8_col0, #T_8f78f_row8_col1, #T_8f78f_row8_col2, #T_8f78f_row9_col0, #T_8f78f_row9_col1, #T_8f78f_row9_col2 {\n",
              "  text-align: left;\n",
              "}\n",
              "</style>\n",
              "<table id=\"T_8f78f_\" class=\"dataframe\">\n",
              "  <thead>\n",
              "    <tr>\n",
              "      <th class=\"blank level0\" >&nbsp;</th>\n",
              "      <th class=\"col_heading level0 col0\" >title</th>\n",
              "      <th class=\"col_heading level0 col1\" >tmdb_score</th>\n",
              "      <th class=\"col_heading level0 col2\" >type</th>\n",
              "    </tr>\n",
              "  </thead>\n",
              "  <tbody>\n",
              "    <tr>\n",
              "      <th id=\"T_8f78f_level0_row0\" class=\"row_heading level0 row0\" >5849</th>\n",
              "      <td id=\"T_8f78f_row0_col0\" class=\"data row0 col0\" >Mighty Little Bheem: Kite Festival</td>\n",
              "      <td id=\"T_8f78f_row0_col1\" class=\"data row0 col1\" >10.000000</td>\n",
              "      <td id=\"T_8f78f_row0_col2\" class=\"data row0 col2\" >SHOW</td>\n",
              "    </tr>\n",
              "    <tr>\n",
              "      <th id=\"T_8f78f_level0_row1\" class=\"row_heading level0 row1\" >5334</th>\n",
              "      <td id=\"T_8f78f_row1_col0\" class=\"data row1 col0\" >Selling Tampa</td>\n",
              "      <td id=\"T_8f78f_row1_col1\" class=\"data row1 col1\" >10.000000</td>\n",
              "      <td id=\"T_8f78f_row1_col2\" class=\"data row1 col2\" >SHOW</td>\n",
              "    </tr>\n",
              "    <tr>\n",
              "      <th id=\"T_8f78f_level0_row2\" class=\"row_heading level0 row2\" >4175</th>\n",
              "      <td id=\"T_8f78f_row2_col0\" class=\"data row2 col0\" >Lugar de Mulher</td>\n",
              "      <td id=\"T_8f78f_row2_col1\" class=\"data row2 col1\" >10.000000</td>\n",
              "      <td id=\"T_8f78f_row2_col2\" class=\"data row2 col2\" >SHOW</td>\n",
              "    </tr>\n",
              "    <tr>\n",
              "      <th id=\"T_8f78f_level0_row3\" class=\"row_heading level0 row3\" >4202</th>\n",
              "      <td id=\"T_8f78f_row3_col0\" class=\"data row3 col0\" >A Queen Is Born</td>\n",
              "      <td id=\"T_8f78f_row3_col1\" class=\"data row3 col1\" >10.000000</td>\n",
              "      <td id=\"T_8f78f_row3_col2\" class=\"data row3 col2\" >SHOW</td>\n",
              "    </tr>\n",
              "    <tr>\n",
              "      <th id=\"T_8f78f_level0_row4\" class=\"row_heading level0 row4\" >4265</th>\n",
              "      <td id=\"T_8f78f_row4_col0\" class=\"data row4 col0\" >Secreto bien guardado</td>\n",
              "      <td id=\"T_8f78f_row4_col1\" class=\"data row4 col1\" >10.000000</td>\n",
              "      <td id=\"T_8f78f_row4_col2\" class=\"data row4 col2\" >SHOW</td>\n",
              "    </tr>\n",
              "    <tr>\n",
              "      <th id=\"T_8f78f_level0_row5\" class=\"row_heading level0 row5\" >4273</th>\n",
              "      <td id=\"T_8f78f_row5_col0\" class=\"data row5 col0\" >Legend Quest: Masters of Myth</td>\n",
              "      <td id=\"T_8f78f_row5_col1\" class=\"data row5 col1\" >10.000000</td>\n",
              "      <td id=\"T_8f78f_row5_col2\" class=\"data row5 col2\" >SHOW</td>\n",
              "    </tr>\n",
              "    <tr>\n",
              "      <th id=\"T_8f78f_level0_row6\" class=\"row_heading level0 row6\" >4289</th>\n",
              "      <td id=\"T_8f78f_row6_col0\" class=\"data row6 col0\" >True: Friendship Day</td>\n",
              "      <td id=\"T_8f78f_row6_col1\" class=\"data row6 col1\" >10.000000</td>\n",
              "      <td id=\"T_8f78f_row6_col2\" class=\"data row6 col2\" >MOVIE</td>\n",
              "    </tr>\n",
              "    <tr>\n",
              "      <th id=\"T_8f78f_level0_row7\" class=\"row_heading level0 row7\" >4296</th>\n",
              "      <td id=\"T_8f78f_row7_col0\" class=\"data row7 col0\" >Singapore Social</td>\n",
              "      <td id=\"T_8f78f_row7_col1\" class=\"data row7 col1\" >10.000000</td>\n",
              "      <td id=\"T_8f78f_row7_col2\" class=\"data row7 col2\" >SHOW</td>\n",
              "    </tr>\n",
              "    <tr>\n",
              "      <th id=\"T_8f78f_level0_row8\" class=\"row_heading level0 row8\" >4320</th>\n",
              "      <td id=\"T_8f78f_row8_col0\" class=\"data row8 col0\" >Happy Jail</td>\n",
              "      <td id=\"T_8f78f_row8_col1\" class=\"data row8 col1\" >10.000000</td>\n",
              "      <td id=\"T_8f78f_row8_col2\" class=\"data row8 col2\" >SHOW</td>\n",
              "    </tr>\n",
              "    <tr>\n",
              "      <th id=\"T_8f78f_level0_row9\" class=\"row_heading level0 row9\" >4327</th>\n",
              "      <td id=\"T_8f78f_row9_col0\" class=\"data row9 col0\" >Buddi</td>\n",
              "      <td id=\"T_8f78f_row9_col1\" class=\"data row9 col1\" >10.000000</td>\n",
              "      <td id=\"T_8f78f_row9_col2\" class=\"data row9 col2\" >SHOW</td>\n",
              "    </tr>\n",
              "  </tbody>\n",
              "</table>\n"
            ]
          },
          "metadata": {},
          "execution_count": 12
        }
      ]
    },
    {
      "cell_type": "markdown",
      "source": [
        "Here we see that the highst TMDd score is 10.0 meanwhile the highst IMDd score is 9.6. And the whole list of TOP 10 contains only 10.0 TMDb scored shows."
      ],
      "metadata": {
        "id": "9UapTWtvnkYa"
      }
    },
    {
      "cell_type": "markdown",
      "source": [
        "We will see which films have higher scores, old or new ones.\n",
        "Firstly we will find the oldest year of release and the newest. To divide the years into time periods."
      ],
      "metadata": {
        "id": "YSNkSsf1fqe2"
      }
    },
    {
      "cell_type": "code",
      "source": [
        "movie_table = df.loc[df['type']=='MOVIE']\n",
        "min_year = movie_table['release_year'].min()\n",
        "print(min_year)\n",
        "max_year = movie_table['release_year'].max()\n",
        "print(max_year)"
      ],
      "metadata": {
        "colab": {
          "base_uri": "https://localhost:8080/"
        },
        "id": "0olFYWHCfKw2",
        "outputId": "ffc79812-8ec0-4eab-91d6-b3bb7d3eab98"
      },
      "execution_count": 13,
      "outputs": [
        {
          "output_type": "stream",
          "name": "stdout",
          "text": [
            "1954\n",
            "2022\n"
          ]
        }
      ]
    },
    {
      "cell_type": "code",
      "source": [
        "movie_groups = pd.cut(df['release_year'],[1954,1965,1975,1985,1995,2005,2015,2022])\n",
        "df.loc[df['type']=='MOVIE', 'movie_group'] = movie_groups"
      ],
      "metadata": {
        "id": "FWHAzjrbx57y"
      },
      "execution_count": 14,
      "outputs": []
    },
    {
      "cell_type": "code",
      "source": [
        "df.groupby('movie_group')['imdb_score'].agg('mean').sort_values(ascending=False)"
      ],
      "metadata": {
        "colab": {
          "base_uri": "https://localhost:8080/"
        },
        "id": "LIg0eWyc5Vpe",
        "outputId": "062cf200-e082-41d8-eaae-aee1d3e641ba"
      },
      "execution_count": 15,
      "outputs": [
        {
          "output_type": "execute_result",
          "data": {
            "text/plain": [
              "movie_group\n",
              "(1965, 1975]    7.145455\n",
              "(1954, 1965]    7.050000\n",
              "(1985, 1995]    6.730556\n",
              "(1995, 2005]    6.730556\n",
              "(1975, 1985]    6.665517\n",
              "(2005, 2015]    6.508580\n",
              "(2015, 2022]    6.127258\n",
              "Name: imdb_score, dtype: float64"
            ]
          },
          "metadata": {},
          "execution_count": 15
        }
      ]
    },
    {
      "cell_type": "markdown",
      "source": [
        "We can see that older films are rated higher. It can be hypothesized that this is due to the fact that older films are mostly watched by a more loyal audience."
      ],
      "metadata": {
        "id": "GHoMtES-_i8z"
      }
    },
    {
      "cell_type": "markdown",
      "source": [
        "Netflix started making original content in 2013. So we will analyse how much content has been released in time periods."
      ],
      "metadata": {
        "id": "PUzqIVfsPYAh"
      }
    },
    {
      "cell_type": "code",
      "source": [
        "year_groups = pd.cut(df['release_year'],[2013,2016,2018,2020,2022])\n",
        "df.loc[df['release_year'] > 2013, 'year_group'] = year_groups"
      ],
      "metadata": {
        "id": "B-Qf9wkYRFq1"
      },
      "execution_count": 16,
      "outputs": []
    },
    {
      "cell_type": "code",
      "source": [
        "df.groupby(['year_group','type'])['type'].agg('count').plot(kind='bar', color=['blue','green'])"
      ],
      "metadata": {
        "colab": {
          "base_uri": "https://localhost:8080/",
          "height": 398
        },
        "id": "1ZMaedEpGDdG",
        "outputId": "22e666d8-b78b-4261-c07c-ede6468b5a76"
      },
      "execution_count": 17,
      "outputs": [
        {
          "output_type": "execute_result",
          "data": {
            "text/plain": [
              "<matplotlib.axes._subplots.AxesSubplot at 0x7f5cf4f86c50>"
            ]
          },
          "metadata": {},
          "execution_count": 17
        },
        {
          "output_type": "display_data",
          "data": {
            "text/plain": [
              "<Figure size 432x288 with 1 Axes>"
            ],
            "image/png": "[encoded data removed]"
          },
          "metadata": {
            "needs_background": "light"
          }
        }
      ]
    },
    {
      "cell_type": "markdown",
      "source": [
        "The chart shows that film production was the most active from 2018 to 2020, , and after that it went into decline. This is probably due to the onset of the pandemic."
      ],
      "metadata": {
        "id": "MdcP6Nvqafx1"
      }
    },
    {
      "cell_type": "markdown",
      "source": [
        "We will explore which shows have higher average ratings (multi-episode or short-episode shows). Firstly we should take the segment that contains the bulk of the data."
      ],
      "metadata": {
        "id": "wUNNOkw0iD_x"
      }
    },
    {
      "cell_type": "code",
      "source": [
        "df['seasons'].hist(bins=10)"
      ],
      "metadata": {
        "colab": {
          "base_uri": "https://localhost:8080/",
          "height": 282
        },
        "id": "Gad6QUVLW2o_",
        "outputId": "1ad3a020-bfb1-4e91-99ba-5da2a2d87c79"
      },
      "execution_count": 18,
      "outputs": [
        {
          "output_type": "execute_result",
          "data": {
            "text/plain": [
              "<matplotlib.axes._subplots.AxesSubplot at 0x7f5ce84a9650>"
            ]
          },
          "metadata": {},
          "execution_count": 18
        },
        {
          "output_type": "display_data",
          "data": {
            "text/plain": [
              "<Figure size 432x288 with 1 Axes>"
            ],
            "image/png": "[encoded data removed]"
          },
          "metadata": {
            "needs_background": "light"
          }
        }
      ]
    },
    {
      "cell_type": "markdown",
      "source": [
        "We can see that the main number of shows consits of a maximum 10 seasons."
      ],
      "metadata": {
        "id": "6kbePSRXZyn1"
      }
    },
    {
      "cell_type": "code",
      "source": [
        "df.loc[(df['seasons'] < 11.0)].groupby(['seasons'])['imdb_score'].agg('mean').sort_values(ascending=False)"
      ],
      "metadata": {
        "colab": {
          "base_uri": "https://localhost:8080/"
        },
        "id": "ur6UNZNQah8_",
        "outputId": "5e137abf-4d0a-4f1a-a8d8-50183a342b68"
      },
      "execution_count": 19,
      "outputs": [
        {
          "output_type": "execute_result",
          "data": {
            "text/plain": [
              "seasons\n",
              "9.0     8.222222\n",
              "7.0     7.577778\n",
              "6.0     7.448571\n",
              "5.0     7.412658\n",
              "3.0     7.227072\n",
              "8.0     7.200000\n",
              "4.0     6.987288\n",
              "10.0    6.950000\n",
              "2.0     6.939189\n",
              "1.0     6.871679\n",
              "Name: imdb_score, dtype: float64"
            ]
          },
          "metadata": {},
          "execution_count": 19
        }
      ]
    },
    {
      "cell_type": "code",
      "source": [
        "df.loc[(df['seasons'] < 11.0)].groupby(['seasons'])['tmdb_score'].agg('mean').sort_values(ascending=False)"
      ],
      "metadata": {
        "colab": {
          "base_uri": "https://localhost:8080/"
        },
        "id": "5bcGDzFcsN6X",
        "outputId": "d87245d8-6267-46d8-9e44-4cf186867219"
      },
      "execution_count": 20,
      "outputs": [
        {
          "output_type": "execute_result",
          "data": {
            "text/plain": [
              "seasons\n",
              "10.0    8.233333\n",
              "9.0     8.022333\n",
              "6.0     7.758917\n",
              "5.0     7.757133\n",
              "4.0     7.700458\n",
              "8.0     7.599727\n",
              "3.0     7.576984\n",
              "2.0     7.537053\n",
              "7.0     7.436556\n",
              "1.0     7.389547\n",
              "Name: tmdb_score, dtype: float64"
            ]
          },
          "metadata": {},
          "execution_count": 20
        }
      ]
    },
    {
      "cell_type": "markdown",
      "source": [
        "In both cases it is clear that shows with more seasons have higher scores. Perhaps this is because viewers become more passionate with the series over time and give them higher scores."
      ],
      "metadata": {
        "id": "pBsl6Orys4oJ"
      }
    },
    {
      "cell_type": "markdown",
      "source": [
        "Now let's see if there is a correlation between the movie runtime and its score."
      ],
      "metadata": {
        "id": "YrXmCOVes7dY"
      }
    },
    {
      "cell_type": "code",
      "source": [
        "df_1=df.loc[df['type']=='MOVIE']\n",
        "df_1.plot(x='runtime', y='imdb_score', kind = 'scatter', color= 'red')"
      ],
      "metadata": {
        "colab": {
          "base_uri": "https://localhost:8080/",
          "height": 296
        },
        "id": "Us_4O8h1tf6_",
        "outputId": "d362a636-34c7-46ff-a6e8-dee5fa027d45"
      },
      "execution_count": 21,
      "outputs": [
        {
          "output_type": "execute_result",
          "data": {
            "text/plain": [
              "<matplotlib.axes._subplots.AxesSubplot at 0x7f5ce7e14bd0>"
            ]
          },
          "metadata": {},
          "execution_count": 21
        },
        {
          "output_type": "display_data",
          "data": {
            "text/plain": [
              "<Figure size 432x288 with 1 Axes>"
            ],
            "image/png": "[encoded data removed]"
          },
          "metadata": {
            "needs_background": "light"
          }
        }
      ]
    },
    {
      "cell_type": "markdown",
      "source": [
        "It can be concluded that there is no correlation."
      ],
      "metadata": {
        "id": "qr1y1DEcvPfC"
      }
    },
    {
      "cell_type": "markdown",
      "source": [
        "Let's make a chart to see how the movie runtime has changed over the years."
      ],
      "metadata": {
        "id": "L8gHm7JY5vdg"
      }
    },
    {
      "cell_type": "code",
      "source": [
        "df.loc[df['type']=='MOVIE'].groupby('release_year')[['runtime']].agg('mean').plot(figsize=(20, 10))"
      ],
      "metadata": {
        "colab": {
          "base_uri": "https://localhost:8080/",
          "height": 623
        },
        "id": "MC6wjhBsK8fr",
        "outputId": "91e859d6-8ee3-4ac6-923c-b00dd06df442"
      },
      "execution_count": 23,
      "outputs": [
        {
          "output_type": "execute_result",
          "data": {
            "text/plain": [
              "<matplotlib.axes._subplots.AxesSubplot at 0x7f5ce7d42690>"
            ]
          },
          "metadata": {},
          "execution_count": 23
        },
        {
          "output_type": "display_data",
          "data": {
            "text/plain": [
              "<Figure size 1440x720 with 1 Axes>"
            ],
            "image/png": "[encoded data removed]"
          },
          "metadata": {
            "needs_background": "light"
          }
        }
      ]
    },
    {
      "cell_type": "markdown",
      "source": [
        "We can see that, over time, there is a tendency for the average movie runtime to go down. This is possibly because viewers are becoming less diligent due to Instagram stories and Tik-Tok era."
      ],
      "metadata": {
        "id": "TRqIzSFsRtpw"
      }
    },
    {
      "cell_type": "markdown",
      "source": [
        "Before starting analysis we should parse the genre column as it contains multiple genres that count as distinct value. Then we will see the most frequent genre and the most popular with viewers."
      ],
      "metadata": {
        "id": "RU0udCaS_wfk"
      }
    },
    {
      "cell_type": "code",
      "source": [
        "import math\n",
        "\n",
        "genres = {}\n",
        "\n",
        "for index, row in df.iterrows():\n",
        "  score = row['imdb_score']\n",
        "  if math.isnan(score): # skip all that doesn't have IMDB score\n",
        "    continue \n",
        "  for string in row['genres'][1:-1].split(','):\n",
        "    genre = string.strip()[1:-1]\n",
        "    if genre == '':\n",
        "      continue\n",
        "    if genre not in genres.keys():\n",
        "      genres[genre] = [0, 0]\n",
        "      continue\n",
        "    genres[genre][0] += 1\n",
        "    genres[genre][1] += score\n",
        "\n",
        "genre_counts = []\n",
        "average_scores = []\n",
        "\n",
        "for key in genres.keys():\n",
        "  genre_counts.append((key, genres[key][0]))\n",
        "  average_scores.append((key, genres[key][1] / genres[key][0]))\n",
        "\n",
        "genre_counts.sort(key=lambda y: y[1], reverse=True)\n",
        "average_scores.sort(key=lambda y: y[1], reverse=True)\n",
        "\n",
        "print(genre_counts)\n",
        "average_scores"
      ],
      "metadata": {
        "colab": {
          "base_uri": "https://localhost:8080/"
        },
        "id": "4Xc1QH3FgUai",
        "outputId": "5fda02a2-749a-455b-ac35-1bfb95847679"
      },
      "execution_count": 64,
      "outputs": [
        {
          "output_type": "stream",
          "name": "stdout",
          "text": [
            "[('drama', 2826), ('comedy', 2217), ('thriller', 1179), ('action', 1108), ('romance', 954), ('crime', 908), ('documentation', 858), ('family', 651), ('animation', 629), ('fantasy', 618), ('scifi', 559), ('european', 427), ('horror', 365), ('history', 253), ('music', 243), ('reality', 218), ('sport', 169), ('war', 154), ('western', 38)]\n"
          ]
        },
        {
          "output_type": "execute_result",
          "data": {
            "text/plain": [
              "[('history', 7.127272727272719),\n",
              " ('war', 7.061688311688312),\n",
              " ('documentation', 7.007925407925406),\n",
              " ('animation', 6.702384737678855),\n",
              " ('sport', 6.652662721893491),\n",
              " ('crime', 6.64867841409692),\n",
              " ('drama', 6.624062278839361),\n",
              " ('fantasy', 6.555501618122977),\n",
              " ('scifi', 6.544543828264757),\n",
              " ('european', 6.526932084309143),\n",
              " ('music', 6.513580246913581),\n",
              " ('western', 6.463157894736843),\n",
              " ('action', 6.419765342960291),\n",
              " ('reality', 6.405963302752292),\n",
              " ('comedy', 6.393504736129894),\n",
              " ('romance', 6.379454926624733),\n",
              " ('thriller', 6.36743002544529),\n",
              " ('family', 6.332565284178189),\n",
              " ('horror', 6.002465753424657)]"
            ]
          },
          "metadata": {},
          "execution_count": 64
        }
      ]
    },
    {
      "cell_type": "markdown",
      "source": [
        "Here we can see that drama is the most frequent genre but is not the most popular. The most highly rated genre is history."
      ],
      "metadata": {
        "id": "ws_I-OwhBFCB"
      }
    },
    {
      "cell_type": "markdown",
      "source": [
        "The last data that we will look at is age_certification column."
      ],
      "metadata": {
        "id": "EX5CA4p9OVNv"
      }
    },
    {
      "cell_type": "code",
      "source": [
        "df['age_certification'].value_counts().plot(kind='bar')"
      ],
      "metadata": {
        "colab": {
          "base_uri": "https://localhost:8080/",
          "height": 309
        },
        "id": "2SCX5ErmT6kT",
        "outputId": "7e6fa937-3919-45d6-ab7d-e30d5df5f1ff"
      },
      "execution_count": 72,
      "outputs": [
        {
          "output_type": "execute_result",
          "data": {
            "text/plain": [
              "<matplotlib.axes._subplots.AxesSubplot at 0x7f5cd6de5e10>"
            ]
          },
          "metadata": {},
          "execution_count": 72
        },
        {
          "output_type": "display_data",
          "data": {
            "text/plain": [
              "<Figure size 432x288 with 1 Axes>"
            ],
            "image/png": "[encoded data removed]"
          },
          "metadata": {
            "needs_background": "light"
          }
        }
      ]
    },
    {
      "cell_type": "markdown",
      "source": [
        "Here we see that TV-MA age certification which means that it is designed only for adults and not suitable for children under 17 is the most frequent."
      ],
      "metadata": {
        "id": "tVC4lJA1WxUi"
      }
    },
    {
      "cell_type": "code",
      "source": [
        "df.groupby('age_certification')['imdb_score'].agg('mean').plot(kind='bar')"
      ],
      "metadata": {
        "colab": {
          "base_uri": "https://localhost:8080/",
          "height": 323
        },
        "id": "ehfOF9pzV7T3",
        "outputId": "41a42ea1-52d7-4cb9-b4da-2d5a35c9b718"
      },
      "execution_count": 76,
      "outputs": [
        {
          "output_type": "execute_result",
          "data": {
            "text/plain": [
              "<matplotlib.axes._subplots.AxesSubplot at 0x7f5cd6bcbad0>"
            ]
          },
          "metadata": {},
          "execution_count": 76
        },
        {
          "output_type": "display_data",
          "data": {
            "text/plain": [
              "<Figure size 432x288 with 1 Axes>"
            ],
            "image/png": "[encoded data removed]"
          },
          "metadata": {
            "needs_background": "light"
          }
        }
      ]
    },
    {
      "cell_type": "markdown",
      "source": [
        "TV-MA is also higly rated one but TV-14 is more popular age certification."
      ],
      "metadata": {
        "id": "zAC3S8qPXQ_Q"
      }
    },
    {
      "cell_type": "markdown",
      "source": [
        "**Conclusion**  \n",
        "We analysed the dataset, found some patterns and visualised them."
      ],
      "metadata": {
        "id": "Os8mIeY4eYef"
      }
    }
  ]
}